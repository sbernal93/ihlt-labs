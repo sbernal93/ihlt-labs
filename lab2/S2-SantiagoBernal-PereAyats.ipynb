{
 "cells": [
  {
   "cell_type": "code",
   "execution_count": 2,
   "metadata": {
    "scrolled": false
   },
   "outputs": [
    {
     "name": "stdout",
     "output_type": "stream",
     "text": [
      "[nltk_data] Downloading package punkt to /home/santiago/nltk_data...\n",
      "[nltk_data]   Package punkt is already up-to-date!\n"
     ]
    },
    {
     "data": {
      "text/plain": [
       "True"
      ]
     },
     "execution_count": 2,
     "metadata": {},
     "output_type": "execute_result"
    }
   ],
   "source": [
    "import nltk\n",
    "nltk.download('punkt')"
   ]
  },
  {
   "cell_type": "code",
   "execution_count": 3,
   "metadata": {},
   "outputs": [
    {
     "name": "stdout",
     "output_type": "stream",
     "text": [
      "[0.6923076923076923, 0.7368421052631579, 0.6666666666666666, 0.5454545454545454, 0.7692307692307693, 0.8620689655172413]\n"
     ]
    }
   ],
   "source": [
    "from nltk.metrics import jaccard_distance\n",
    "from scipy.stats import pearsonr\n",
    "input_file = 'trial/STS.input.txt'\n",
    "with open(input_file) as f:\n",
    "    input_data = f.readlines()\n",
    "distances = []\n",
    "for i in input_data:\n",
    "    sentences = nltk.sent_tokenize(i[4:])\n",
    "    words = [nltk.word_tokenize(sent) for sent in sentences]\n",
    "    distances.append(jaccard_distance(set(words[0]),set(words[1])))\n",
    "print(distances)"
   ]
  },
  {
   "cell_type": "code",
   "execution_count": 4,
   "metadata": {},
   "outputs": [
    {
     "data": {
      "text/plain": [
       "0.4143770872333895"
      ]
     },
     "execution_count": 4,
     "metadata": {},
     "output_type": "execute_result"
    }
   ],
   "source": [
    "gold_file = 'trial/STS.gs.txt'\n",
    "with open(gold_file) as f:\n",
    "    gold_data = f.readlines()\n",
    "gold = [int(g[4:5]) for g in gold_data]\n",
    "pearsonr(distances, gold)[0]"
   ]
  },
  {
   "cell_type": "code",
   "execution_count": 19,
   "metadata": {},
   "outputs": [],
   "source": [
    "# Loads the different training data into a list \n",
    "langs = ['deu','eng','fra','ita','nld','spa']\n",
    "training = []\n",
    "for i in langs: \n",
    "    file='langId/'+i+'_trn.txt'\n",
    "    with open(file) as f:\n",
    "         training.append(f.readlines())"
   ]
  },
  {
   "cell_type": "code",
   "execution_count": 7,
   "metadata": {},
   "outputs": [],
   "source": [
    "# Loads the different testing data into a list\n",
    "test = []\n",
    "for i in langs: \n",
    "    file='langId/'+i+'_tst.txt'\n",
    "    with open(file) as f:\n",
    "         test.append(f.readlines())"
   ]
  },
  {
   "cell_type": "code",
   "execution_count": 31,
   "metadata": {},
   "outputs": [],
   "source": [
    "# Removes punctuations and sets all text to lower case and removes continuous\n",
    "# white spaces for training data\n",
    "stdTraining = []\n",
    "for i in training:\n",
    "    langtrn = [] \n",
    "    for c in i:                \n",
    "        words = nltk.word_tokenize(c) \n",
    "        words = [word.lower() for word in words if word.isalpha()]\n",
    "        words = [\" \".join(word.split()) for word in words]\n",
    "        langtrn.append(words)\n",
    "    stdTraining.append(langtrn)"
   ]
  },
  {
   "cell_type": "code",
   "execution_count": 42,
   "metadata": {},
   "outputs": [],
   "source": [
    "# Removes punctuations and sets all text to lower case and removes continuous\n",
    "# white spaces for testing data\n",
    "stdTest = []\n",
    "for i in test:\n",
    "    langtst = [] \n",
    "    for c in i:                \n",
    "        words = nltk.word_tokenize(c)                             \n",
    "        words = [word.lower() for word in words if word.isalpha()]\n",
    "        langtst.append(words) \n",
    "    stdTest.append(langtst)"
   ]
  },
  {
   "cell_type": "code",
   "execution_count": 32,
   "metadata": {},
   "outputs": [],
   "source": [
    "# Concats all sentences with a double space between them for each lang in the training\n",
    "concatLangTrain = []\n",
    "for i in stdTraining: \n",
    "    langSentences = \"\"\n",
    "    for s in i:\n",
    "        sentence = \"\"\n",
    "        for w in s:\n",
    "            sentence = sentence + \" \" + w\n",
    "        sentence = sentence[1:]\n",
    "        langSentences = langSentences + \"  \" + sentence\n",
    "    langSentences = langSentences[2:]\n",
    "    concatLangTrain.append(langSentences)"
   ]
  },
  {
   "cell_type": "code",
   "execution_count": 58,
   "metadata": {},
   "outputs": [],
   "source": [
    "concatLangTest = []\n",
    "for i in stdTest: \n",
    "    #langSentences = \"\"\n",
    "    langSentences = []\n",
    "    for s in i:\n",
    "        sentence = \"\"\n",
    "        for w in s:\n",
    "            sentence = sentence + \" \" + w\n",
    "        sentence = sentence[1:]\n",
    "        #langSentences = langSentences + \"  \" + sentence\n",
    "        langSentences.append(sentence)\n",
    "    #langSentences = langSentences[2:]\n",
    "    concatLangTest.append(langSentences)"
   ]
  },
  {
   "cell_type": "code",
   "execution_count": null,
   "metadata": {},
   "outputs": [],
   "source": []
  },
  {
   "cell_type": "code",
   "execution_count": 73,
   "metadata": {},
   "outputs": [],
   "source": [
    "from nltk.collocations import TrigramCollocationFinder\n",
    "trigramTrain = []\n",
    "for i in concatLangTrain:\n",
    "    trainFinder = TrigramCollocationFinder.from_words(i)\n",
    "    trainFinder.apply_freq_filter(1000)\n",
    "    trigramTrain.append([tr for tr in trainFinder.ngram_fd.items()])\n",
    "    "
   ]
  },
  {
   "cell_type": "code",
   "execution_count": 67,
   "metadata": {},
   "outputs": [],
   "source": [
    "trigramTest = []\n",
    "for i in concatLangTest:\n",
    "    langTrigram = []\n",
    "    for c in i:\n",
    "        testFinder = TrigramCollocationFinder.from_words(c)\n",
    "        #testFinder.apply_freq_filter(3)\n",
    "        langTrigram.append([tr for tr in testFinder.ngram_fd.items()])\n",
    "    trigramTest.append(langTrigram)\n",
    "#for i in concatLangTest:\n",
    "#    testFinder = TrigramCollocationFinder.from_words(i)\n",
    "#    testFinder.apply_freq_filter(5)\n",
    "#    trigramTest.append([tr for tr in testFinder.ngram_fd.items()])"
   ]
  },
  {
   "cell_type": "code",
   "execution_count": 63,
   "metadata": {},
   "outputs": [],
   "source": [
    "testSorted = []\n",
    "for i in trigramTest:\n",
    "    sortSent = []\n",
    "    for c in i:\n",
    "        sortSent.append(sorted(c, key=lambda x:x[1], reverse=True))\n",
    "    #testSorted.append(sorted(i, key=lambda x: x[1], reverse=True))\n",
    "    testSorted.append(sortSent)\n",
    "trainSorted = []\n",
    "for i in trigramTrain:\n",
    "    trainSorted.append(sorted(i, key=lambda x: x[1], reverse=True))"
   ]
  },
  {
   "cell_type": "code",
   "execution_count": 74,
   "metadata": {},
   "outputs": [],
   "source": [
    "from nltk.metrics import jaccard_distance\n",
    "distances = []\n",
    "for i in trigramTest:\n",
    "    distancesLang = []\n",
    "    for s in i:\n",
    "        distancesSentence = []\n",
    "        for c in trigramTrain:\n",
    "            distancesSentence.append(jaccard_distance(set([x[0] for x in s]),set([x[0] for x in c])))\n",
    "        #distancesLang.append(jaccard_distance(set([x[0] for x in i]),set([x[0] for x in c])))\n",
    "        distancesLang.append(distancesSentence)\n",
    "    distances.append(distancesLang)\n",
    "#distances"
   ]
  },
  {
   "cell_type": "code",
   "execution_count": 75,
   "metadata": {},
   "outputs": [
    {
     "name": "stdout",
     "output_type": "stream",
     "text": [
      "accuracy: 0.9867282458275672\n",
      "    |    d    e    f    i    n    s |\n",
      "    |    e    n    r    t    l    p |\n",
      "    |    u    g    a    a    d    a |\n",
      "----+-------------------------------+\n",
      "deu |<9905>   1    6    .   75    3 |\n",
      "eng |   33<9667>  73    5  205    4 |\n",
      "fra |   18    7<9948>   7   16    4 |\n",
      "ita |    4    4   62<9887>  10   33 |\n",
      "nld |   30    5   13    6<9946>   . |\n",
      "spa |    4    9  104   51    4<9828>|\n",
      "----+-------------------------------+\n",
      "(row = reference; col = test)\n",
      "\n"
     ]
    }
   ],
   "source": [
    "from nltk.metrics.scores import accuracy\n",
    "from nltk.metrics import ConfusionMatrix\n",
    "\n",
    "#results = []\n",
    "#for i in distances:\n",
    "#    results.append(langs[i.index(min(i))])\n",
    "\n",
    "#print('accuracy: ' + str(accuracy(langs, results)))\n",
    "#cm = ConfusionMatrix(langs, results)\n",
    "refs = []\n",
    "count = 0\n",
    "results = []\n",
    "for i in distances:\n",
    "    for c in i:\n",
    "        results.append(langs[c.index(min(c))])\n",
    "        refs.append(langs[count])\n",
    "    count +=1\n",
    "print('accuracy: ' + str(accuracy(refs, results)))\n",
    "cm = ConfusionMatrix(refs, results)\n",
    "print(cm.pretty_format())"
   ]
  },
  {
   "cell_type": "code",
   "execution_count": null,
   "metadata": {},
   "outputs": [],
   "source": []
  }
 ],
 "metadata": {
  "kernelspec": {
   "display_name": "Python 3",
   "language": "python",
   "name": "python3"
  },
  "language_info": {
   "codemirror_mode": {
    "name": "ipython",
    "version": 3
   },
   "file_extension": ".py",
   "mimetype": "text/x-python",
   "name": "python",
   "nbconvert_exporter": "python",
   "pygments_lexer": "ipython3",
   "version": "3.6.5"
  }
 },
 "nbformat": 4,
 "nbformat_minor": 2
}
