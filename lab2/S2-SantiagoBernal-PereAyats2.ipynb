{
 "cells": [
  {
   "cell_type": "code",
   "execution_count": 3,
   "metadata": {
    "scrolled": false
   },
   "outputs": [
    {
     "name": "stdout",
     "output_type": "stream",
     "text": [
      "[nltk_data] Downloading package punkt to /usr/local/share/nltk_data...\n",
      "[nltk_data]   Package punkt is already up-to-date!\n"
     ]
    },
    {
     "data": {
      "text/plain": [
       "True"
      ]
     },
     "execution_count": 3,
     "metadata": {},
     "output_type": "execute_result"
    }
   ],
   "source": [
    "import nltk\n",
    "nltk.download('punkt')"
   ]
  },
  {
   "cell_type": "code",
   "execution_count": 6,
   "metadata": {},
   "outputs": [
    {
     "name": "stdout",
     "output_type": "stream",
     "text": [
      "[0.6923076923076923, 0.7368421052631579, 0.6666666666666666, 0.5454545454545454, 0.7692307692307693, 0.8620689655172413]\n"
     ]
    }
   ],
   "source": [
    "from nltk.metrics import jaccard_distance\n",
    "from scipy.stats import pearsonr\n",
    "input_file = 'trial/STS.input.txt'\n",
    "with open(input_file) as f:\n",
    "    input_data = f.readlines()\n",
    "distances = []\n",
    "for i in input_data:\n",
    "    sentences = nltk.sent_tokenize(i[4:])\n",
    "    words = [nltk.word_tokenize(sent) for sent in sentences]\n",
    "    distances.append(jaccard_distance(set(words[0]),set(words[1])))\n",
    "print(distances)"
   ]
  },
  {
   "cell_type": "code",
   "execution_count": 8,
   "metadata": {},
   "outputs": [
    {
     "data": {
      "text/plain": [
       "0.4143770872333895"
      ]
     },
     "execution_count": 8,
     "metadata": {},
     "output_type": "execute_result"
    }
   ],
   "source": [
    "gold_file = 'trial/STS.gs.txt'\n",
    "with open(gold_file) as f:\n",
    "    gold_data = f.readlines()\n",
    "gold = [int(g[4:5]) for g in gold_data]\n",
    "pearsonr(distances, gold)[0]\n",
    "\n",
    "# We think that it performs quite well considering\n",
    "# the amount of information given since as the pearson\n",
    "# correlation comes closer to 1, we get closer and closer\n",
    "# to reach a total positive linear correlation.\n",
    "# With a score of 0.414, the similarities calculated from the\n",
    "# input data increased accordingly with the gold standard \n",
    "# with some degree.This considering as well that jaccard\n",
    "# distance is very sensitive with small sample sizes and \n",
    "# can give very erronous results when small data samples \n",
    "# are use, as is the case."
   ]
  },
  {
   "cell_type": "code",
   "execution_count": 8,
   "metadata": {},
   "outputs": [],
   "source": [
    "# Optional exercise\n",
    "from nltk.collocations import TrigramCollocationFinder\n",
    "from nltk.metrics import jaccard_distance, ConfusionMatrix\n",
    "from nltk.metrics.scores import accuracy\n",
    "import numpy as np\n",
    "\n",
    "\n",
    "def get_trigrams(lang_text, filt):\n",
    "    finder = TrigramCollocationFinder.from_words(lang_text)\n",
    "    finder.apply_freq_filter(filt)\n",
    "    #trigrams = sorted([tr for tr in finder.ngram_fd.items()], key=lambda x: x[1], reverse=True)\n",
    "    trigrams = [tr for tr in finder.ngram_fd.items()]\n",
    "    return [x[0] for x in trigrams]\n",
    "\n",
    "files = [\"eng\", \"spa\", \"nld\", \"deu\", \"ita\", \"fra\"]\n",
    "\n",
    "# Precalc training trigrams of each language\n",
    "train_trigrams = []\n",
    "for f in files:\n",
    "    with open(\"langId/\" + f + \"_trn.txt\") as lang_file:\n",
    "        lf = lang_file.readlines()\n",
    "    lang_text = \"  \".join([\" \".join([x for w in l.split() for x in (\"\".join(c for c in w if c.isalpha()).lower(),) if x]) for l in lf])\n",
    "    train_trigrams.append(get_trigrams(lang_text, 3000))\n",
    "\n",
    "# Test trigrams for each sentence of each language\n",
    "tests = []\n",
    "test_trigrams = []\n",
    "for f in files:\n",
    "    with open(\"langId/\" + f + \"_tst.txt\") as lang_file:\n",
    "        lf = lang_file.readlines()\n",
    "    lang_sentences = [\" \".join([x for w in l.split() for x in (\"\".join(c for c in w if c.isalpha()).lower(),) if x]) for l in lf]\n",
    "    lang_trigram=[]\n",
    "    for sentence in lang_sentences:\n",
    "        lang_trigram.append(get_trigrams(sentence,0))\n",
    "    test_trigrams.append(lang_trigram)\n"
   ]
  },
  {
   "cell_type": "code",
   "execution_count": 9,
   "metadata": {},
   "outputs": [],
   "source": [
    "# The distance of each test sentence to each language\n",
    "# grouped by language to validate with the labels later\n",
    "distances = []\n",
    "for lang in test_trigrams:\n",
    "    distances_lang = []\n",
    "    for sentence in lang:\n",
    "        distances_sent = []\n",
    "        for tt in train_trigrams:\n",
    "            distances_sent.append(jaccard_distance(set(tt), set(sentence)))\n",
    "        distances_lang.append(distances_sent)\n",
    "    distances.append(distances_lang)\n",
    "    \n",
    "# gets the expected label (refs) and real label (results) of the tests \n",
    "refs = []\n",
    "count = 0\n",
    "results = []\n",
    "for i in distances:\n",
    "    for c in i:\n",
    "        results.append(files[c.index(min(c))])\n",
    "        refs.append(files[count])\n",
    "    count +=1"
   ]
  },
  {
   "cell_type": "code",
   "execution_count": 10,
   "metadata": {},
   "outputs": [
    {
     "data": {
      "text/plain": [
       "'accuracy: 0.9873618220317788'"
      ]
     },
     "execution_count": 10,
     "metadata": {},
     "output_type": "execute_result"
    }
   ],
   "source": [
    "# Display information\n",
    "'accuracy: ' + str(accuracy(refs,results))\n",
    "\n",
    "# The accuracy is pretty high and works well.\n",
    "# To be able to obtain this accuracy, \n",
    "# the amount of fequency filter used for the training\n",
    "# trigram had to be increased so that the jaccard\n",
    "# distance was able to function better. We think \n",
    "# this is because since the jaccard distance doesnt\n",
    "# take into consideration the frequency of the trigram\n",
    "# when calculating a distance but rather the membership\n",
    "# of the trigram on both sets vs the non-membership,\n",
    "# sometimes the distance \n",
    "# of a sentence was closer to a wrong language simply\n",
    "# because that language maybe had a lot of the trigrams \n",
    "# of the sentence even if the trigrams weren't very frequent\n",
    "# at all in the language. Fortunately, by setting a higher\n",
    "# threshold of the amount of repetitions a trigram needs in\n",
    "# order to consider it for the distance removes this problem\n",
    "# and the distance is able to be calculated more accurately.\n"
   ]
  },
  {
   "cell_type": "code",
   "execution_count": 11,
   "metadata": {},
   "outputs": [
    {
     "name": "stdout",
     "output_type": "stream",
     "text": [
      "    |    d    e    f    i    n    s |\n",
      "    |    e    n    r    t    l    p |\n",
      "    |    u    g    a    a    d    a |\n",
      "----+-------------------------------+\n",
      "deu |<9867>  26    9    2   80    6 |\n",
      "eng |   30<9872>  42   11   23    9 |\n",
      "fra |   23   23<9884>  19   19   32 |\n",
      "ita |    4   22   24<9822>   4  124 |\n",
      "nld |   55   38   13    4<9883>   7 |\n",
      "spa |   15   17   31   42    4<9891>|\n",
      "----+-------------------------------+\n",
      "(row = reference; col = test)\n",
      "\n"
     ]
    }
   ],
   "source": [
    "cm = ConfusionMatrix(refs,results)\n",
    "print(cm.pretty_format())\n",
    "\n",
    "# Viewing the Confusion Matrix, some of the mistakes\n",
    "# of the language identifier makes sense, considering \n",
    "# that the errors seem to be mostly on languages that \n",
    "# are similar or share common words. For example, \n",
    "# for german, dutch is similar and most of the \n",
    "# mistakes made identifying german where made because\n",
    "# the project considered it as dutch and viceversa,\n",
    "# most of the mistakes in dutch was because they where\n",
    "# falsesly identified as german. German was \n",
    "# also confused as english in some cases, which also\n",
    "# makes sense since they share some words and english\n",
    "# has a lot of words that have their origin in the \n",
    "# german language. Another example is with italian\n",
    "# and french being confused with spanish, which makes\n",
    "# sense as they all come from the Italo-Western branch\n",
    "# of the Latin language."
   ]
  }
 ],
 "metadata": {
  "kernelspec": {
   "display_name": "Python 3",
   "language": "python",
   "name": "python3"
  },
  "language_info": {
   "codemirror_mode": {
    "name": "ipython",
    "version": 3
   },
   "file_extension": ".py",
   "mimetype": "text/x-python",
   "name": "python",
   "nbconvert_exporter": "python",
   "pygments_lexer": "ipython3",
   "version": "3.6.5"
  }
 },
 "nbformat": 4,
 "nbformat_minor": 2
}
