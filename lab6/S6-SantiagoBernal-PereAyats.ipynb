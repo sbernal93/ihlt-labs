{
 "cells": [
  {
   "cell_type": "code",
   "execution_count": 1,
   "metadata": {},
   "outputs": [
    {
     "name": "stdout",
     "output_type": "stream",
     "text": [
      "[nltk_data] Downloading package sentiwordnet to\n",
      "[nltk_data]     /home/santiago/nltk_data...\n",
      "[nltk_data]   Package sentiwordnet is already up-to-date!\n"
     ]
    },
    {
     "data": {
      "text/plain": [
       "True"
      ]
     },
     "execution_count": 1,
     "metadata": {},
     "output_type": "execute_result"
    }
   ],
   "source": [
    "import nltk\n",
    "nltk.download('sentiwordnet')"
   ]
  },
  {
   "cell_type": "code",
   "execution_count": 2,
   "metadata": {},
   "outputs": [
    {
     "name": "stdout",
     "output_type": "stream",
     "text": [
      "Lab2 distances: [0.6923076923076923, 0.7368421052631579, 0.6666666666666666, 0.5454545454545454, 0.7692307692307693, 0.8620689655172413]\n",
      "Lab3 distances: [0.6923076923076923, 0.6666666666666666, 0.6666666666666666, 0.5454545454545454, 0.7692307692307693, 0.8620689655172413]\n",
      "Lesk distance: [0.7, 0.7857142857142857, 0.5, 0.8888888888888888, 0.9, 0.92]\n",
      "Lesk variant with hypernyms: [0.7, 0.8, 0.4444444444444444, 0.8333333333333334, 0.875, 0.9]\n"
     ]
    }
   ],
   "source": [
    "from nltk import pos_tag\n",
    "from nltk.wsd import lesk\n",
    "from nltk.stem import WordNetLemmatizer\n",
    "from nltk.metrics import jaccard_distance\n",
    "from nltk.corpus import wordnet as wn\n",
    "\n",
    "def lemmatize(p):\n",
    "    if p[1][0] in {'N', 'V'}:\n",
    "        return wnl.lemmatize(p[0].lower(), pos=p[1][0].lower())\n",
    "    return p[0]\n",
    "\n",
    "def penn2morphy(penntag, returnNone=False):\n",
    "    morphy_tag = {'NN':wn.NOUN, 'JJ':wn.ADJ,\n",
    "                  'VB':wn.VERB, 'RB':wn.ADV}\n",
    "    try:\n",
    "        return morphy_tag[penntag[:2]]\n",
    "    except:\n",
    "        return None if returnNone else ''\n",
    "\n",
    "def getHypernym(s):\n",
    "    if not s:\n",
    "        return [s]\n",
    "    if s.hypernyms() == []:\n",
    "        return [None]\n",
    "    return s.hypernyms()    \n",
    "\n",
    "wnl = WordNetLemmatizer()\n",
    "\n",
    "input_file = 'trial/STS.input.txt'\n",
    "with open(input_file) as f:\n",
    "    input_data = f.readlines()\n",
    "    \n",
    "document_distances = []\n",
    "lesks_distances = []\n",
    "lesks_hyper_distances = []\n",
    "morphology_distances = []\n",
    "for i in input_data:\n",
    "    sentences = nltk.sent_tokenize(i[4:])\n",
    "    words = [nltk.word_tokenize(sent) for sent in sentences]\n",
    "    pairs = [pos_tag(w) for w in words]\n",
    "    l_words = [[lemmatize(p) for p in pair] for pair in pairs]\n",
    "    synsets = [[[lesk(w, p[0], pos=penn2morphy(p[1][0])) for p in pair] for pair in pairs] for w in words]\n",
    "    hypernyms = [[getHypernym(s) for s in synsets[c][c]] for c in range(len(synsets))]\n",
    "    hypernyms = [[hy[0] for hy in hyp] for hyp in hypernyms]\n",
    "    lesks_distances.append(jaccard_distance(set(synsets[0][0]), set(synsets[1][1])))\n",
    "    morphology_distances.append(jaccard_distance(set(l_words[0]),set(l_words[1])))\n",
    "    document_distances.append(jaccard_distance(set(words[0]),set(words[1])))\n",
    "    lesks_hyper_distances.append(jaccard_distance(set(hypernyms[0]),set(hypernyms[1])))\n",
    "    \n",
    "print(\"Lab2 distances: \" + str(document_distances))\n",
    "print(\"Lab3 distances: \" + str(morphology_distances))\n",
    "print(\"Lesk distance: \" + str(lesks_distances))\n",
    "print(\"Lesk variant with hypernyms: \" + str(lesks_hyper_distances))\n"
   ]
  },
  {
   "cell_type": "code",
   "execution_count": 4,
   "metadata": {},
   "outputs": [
    {
     "name": "stdout",
     "output_type": "stream",
     "text": [
      "Lab2 pearson correlation: 0.4143770872333895\n",
      "Lab3 pearson correlation: 0.517276212426234\n",
      "Lesk pearson correlation: 0.6056964784272112\n",
      "Lesk variant with hypernyms correlation: 0.5101560894527944\n"
     ]
    }
   ],
   "source": [
    "from scipy.stats import pearsonr\n",
    "\n",
    "gold_file = 'trial/STS.gs.txt'\n",
    "with open(gold_file) as f:\n",
    "    gold_data = f.readlines()\n",
    "gold = [int(g[4:5]) for g in gold_data]\n",
    "\n",
    "doc_pearson = pearsonr(document_distances, gold)[0]\n",
    "mor_pearson = pearsonr(morphology_distances, gold)[0]\n",
    "lesk_pearson = pearsonr(lesks_distances, gold)[0]\n",
    "hypernyms_pearson = pearsonr(lesks_hyper_distances, gold)[0]\n",
    "\n",
    "print('Lab2 pearson correlation: ' + str(doc_pearson))\n",
    "print('Lab3 pearson correlation: ' + str(mor_pearson))\n",
    "print('Lesk pearson correlation: ' + str(lesk_pearson))\n",
    "print('Lesk variant with hypernyms correlation: ' + str(hypernyms_pearson))\n",
    "\n",
    "# The correlation greatly improves when using the Lesk algorithm\n",
    "# as the WSD helps it detect the similarities in the sentences\n",
    "# better."
   ]
  },
  {
   "cell_type": "code",
   "execution_count": null,
   "metadata": {},
   "outputs": [],
   "source": []
  }
 ],
 "metadata": {
  "kernelspec": {
   "display_name": "Python 3",
   "language": "python",
   "name": "python3"
  },
  "language_info": {
   "codemirror_mode": {
    "name": "ipython",
    "version": 3
   },
   "file_extension": ".py",
   "mimetype": "text/x-python",
   "name": "python",
   "nbconvert_exporter": "python",
   "pygments_lexer": "ipython3",
   "version": "3.6.5"
  }
 },
 "nbformat": 4,
 "nbformat_minor": 2
}
