{
 "cells": [
  {
   "cell_type": "code",
   "execution_count": 1,
   "metadata": {},
   "outputs": [],
   "source": [
    "def show(d):\n",
    "    crs = d['corefs']\n",
    "    for k, num in zip(crs, range(1, len(crs) + 1)):\n",
    "        print('Chain', num, ':')\n",
    "        l = crs[k]\n",
    "        for e in l:\n",
    "            print('\\t',e['text'],e['gender'],e['number'],e['isRepresentativeMention'],e['type'])\n",
    "            \n",
    "from nltk.parse import CoreNLPParser\n",
    "\n",
    "tagger = CoreNLPParser(url = 'http://localhost:9000')\n",
    "tagger.parser_annotator = 'tokenize,ssplit,pos,lemma,ner,depparse,coref'"
   ]
  },
  {
   "cell_type": "code",
   "execution_count": 2,
   "metadata": {},
   "outputs": [
    {
     "name": "stdout",
     "output_type": "stream",
     "text": [
      "Chain 1 :\n",
      "\t Barack Obama MALE SINGULAR True PROPER\n",
      "\t He MALE SINGULAR False PRONOMINAL\n",
      "\t Obama MALE SINGULAR False PROPER\n"
     ]
    }
   ],
   "source": [
    "text = 'Barack Obama was born in Hawaii. He is the president. Obama was elected in 2008.'\n",
    "res = tagger.api_call(text)\n",
    "show(res)"
   ]
  },
  {
   "cell_type": "code",
   "execution_count": 7,
   "metadata": {},
   "outputs": [
    {
     "name": "stdout",
     "output_type": "stream",
     "text": [
      "Chain 1 :\n",
      "\t Alice FEMALE SINGULAR False PROPER\n",
      "\t her FEMALE SINGULAR False PRONOMINAL\n",
      "\t she FEMALE SINGULAR False PRONOMINAL\n",
      "\t her FEMALE SINGULAR False PRONOMINAL\n",
      "\t Alice ` without pictures or conversations FEMALE SINGULAR True PROPER\n",
      "Chain 2 :\n",
      "\t her sister FEMALE SINGULAR True NOMINAL\n",
      "\t her sister FEMALE SINGULAR False NOMINAL\n",
      "Chain 3 :\n",
      "\t the book her sister was reading NEUTRAL SINGULAR True NOMINAL\n",
      "\t it NEUTRAL SINGULAR False PRONOMINAL\n",
      "\t it NEUTRAL SINGULAR False PRONOMINAL\n"
     ]
    }
   ],
   "source": [
    "par = \"\"\"Alice was beginning to get very tired of sitting by \n",
    "her sister on the bank, and of having nothing to \n",
    "do: once or twice she had peeped into the book her sister was reading, \n",
    "but it had no pictures or conversations in it, 'and what is the use of \n",
    "a book,' thought Alice 'without pictures or conversations?'\"\"\"\n",
    "res = tagger.api_call(par)\n",
    "show(res)"
   ]
  },
  {
   "cell_type": "markdown",
   "metadata": {},
   "source": [
    "For the first chain, it identifies Alice as a named entity, and the next \"her\", \"she\" and \"her\" as anaphors for it. "
   ]
  }
 ],
 "metadata": {
  "kernelspec": {
   "display_name": "Python 3",
   "language": "python",
   "name": "python3"
  },
  "language_info": {
   "codemirror_mode": {
    "name": "ipython",
    "version": 3
   },
   "file_extension": ".py",
   "mimetype": "text/x-python",
   "name": "python",
   "nbconvert_exporter": "python",
   "pygments_lexer": "ipython3",
   "version": "3.6.5"
  }
 },
 "nbformat": 4,
 "nbformat_minor": 2
}
