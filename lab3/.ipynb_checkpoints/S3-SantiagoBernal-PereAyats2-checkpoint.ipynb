{
 "cells": [
  {
   "cell_type": "code",
   "execution_count": 1,
   "metadata": {},
   "outputs": [
    {
     "name": "stdout",
     "output_type": "stream",
     "text": [
      "[nltk_data] Downloading package punkt to /usr/local/share/nltk_data...\n",
      "[nltk_data]   Package punkt is already up-to-date!\n",
      "[nltk_data] Error loading averaged perceptron tagger: Package\n",
      "[nltk_data]     'averaged perceptron tagger' not found in index\n",
      "[nltk_data] Downloading package wordnet to\n",
      "[nltk_data]     /usr/local/share/nltk_data...\n",
      "[nltk_data]   Package wordnet is already up-to-date!\n"
     ]
    },
    {
     "data": {
      "text/plain": [
       "True"
      ]
     },
     "execution_count": 1,
     "metadata": {},
     "output_type": "execute_result"
    }
   ],
   "source": [
    "import nltk\n",
    "nltk.download('punkt')\n",
    "nltk.download('averaged perceptron tagger')\n",
    "nltk.download('wordnet')"
   ]
  },
  {
   "cell_type": "code",
   "execution_count": 11,
   "metadata": {},
   "outputs": [
    {
     "name": "stdout",
     "output_type": "stream",
     "text": [
      "Distances from S2: [0.6923076923076923, 0.7368421052631579, 0.6666666666666666, 0.5454545454545454, 0.7692307692307693, 0.8620689655172413]\n",
      "Current distances: [0.6923076923076923, 0.6666666666666666, 0.6666666666666666, 0.5454545454545454, 0.7692307692307693, 0.8620689655172413]\n"
     ]
    }
   ],
   "source": [
    "# MANDATORY EXERCISE\n",
    "\n",
    "from nltk import pos_tag\n",
    "from nltk.stem import WordNetLemmatizer\n",
    "from nltk.metrics import jaccard_distance\n",
    "from scipy.stats import pearsonr\n",
    "input_file = 'trial/STS.input.txt'\n",
    "wnl = WordNetLemmatizer()\n",
    "\n",
    "def lemmatize(p):\n",
    "    if p[1][0] in {'N', 'V'}:\n",
    "        return wnl.lemmatize(p[0].lower(), pos=p[1][0].lower())\n",
    "    return p[0]\n",
    "\n",
    "with open(input_file) as f:\n",
    "    input_data = f.readlines()\n",
    "s2_distances = []\n",
    "distances = []\n",
    "for i in input_data:\n",
    "    sentences = nltk.sent_tokenize(i[4:])\n",
    "    words = [nltk.word_tokenize(sent) for sent in sentences]\n",
    "    pairs = [pos_tag(w) for w in words]\n",
    "    l_words = [[lemmatize(p) for p in pair] for pair in pairs]\n",
    "    s2_distances.append(jaccard_distance(set(words[0]),set(words[1])))\n",
    "    distances.append(jaccard_distance(set(l_words[0]),set(l_words[1])))\n",
    "print(\"Distances from S2: \" + str(s2_distances))\n",
    "print(\"Current distances: \" + str(distances))"
   ]
  },
  {
   "cell_type": "code",
   "execution_count": 12,
   "metadata": {},
   "outputs": [
    {
     "data": {
      "text/plain": [
       "0.517276212426234"
      ]
     },
     "execution_count": 12,
     "metadata": {},
     "output_type": "execute_result"
    }
   ],
   "source": [
    "gold_file = 'trial/STS.gs.txt'\n",
    "with open(gold_file) as f:\n",
    "    gold_data = f.readlines()\n",
    "gold = [int(g[4:5]) for g in gold_data]\n",
    "pearsonr(distances, gold)[0]\n",
    "\n",
    "# We would say that lemmas are better. We get a better pearson correlation and\n",
    "# makes more sense since some words that derive from other ones (such as plurals of words)\n",
    "# will get a lower distance between them if we lemmatize them.\n",
    "# It will perform better for any pair of texts except for the ones that have a lot proper nouns\n",
    "# or adverbs and adjectives. In this case it will perform almost in the same way."
   ]
  },
  {
   "cell_type": "code",
   "execution_count": 20,
   "metadata": {},
   "outputs": [
    {
     "name": "stdout",
     "output_type": "stream",
     "text": [
      "something\n",
      "seething\n"
     ]
    }
   ],
   "source": [
    "# OPTIONAL EXERCISE: SPELLING CORRECTION\n",
    "words_to_correct = [\"something\", \"soemthing\"] # Add more words to correct\n",
    "\n",
    "from nltk.metrics.distance import edit_distance\n",
    "\n",
    "words_file = open(\"wordsEn.txt\")\n",
    "word_list = words_file.read().split()\n",
    "\n",
    "def correct_word(w):\n",
    "    if w in word_list:\n",
    "        return w\n",
    "    else:\n",
    "        most_similars = sorted([(word, edit_distance(word,w)) for word in word_list], key=lambda x: x[1])\n",
    "        return most_similars[0][0]\n",
    "\n",
    "for i in words_to_correct:\n",
    "    print(correct_word(i))"
   ]
  }
 ],
 "metadata": {
  "kernelspec": {
   "display_name": "Python 3",
   "language": "python",
   "name": "python3"
  },
  "language_info": {
   "codemirror_mode": {
    "name": "ipython",
    "version": 3
   },
   "file_extension": ".py",
   "mimetype": "text/x-python",
   "name": "python",
   "nbconvert_exporter": "python",
   "pygments_lexer": "ipython3",
   "version": "3.6.5"
  }
 },
 "nbformat": 4,
 "nbformat_minor": 2
}
