{
 "cells": [
  {
   "cell_type": "code",
   "execution_count": 3,
   "metadata": {},
   "outputs": [
    {
     "name": "stdout",
     "output_type": "stream",
     "text": [
      "[nltk_data] Downloading package averaged_perceptron_tagger to\n",
      "[nltk_data]     /home/santiago/nltk_data...\n",
      "[nltk_data]   Package averaged_perceptron_tagger is already up-to-\n",
      "[nltk_data]       date!\n",
      "[nltk_data] Downloading package wordnet to /home/santiago/nltk_data...\n",
      "[nltk_data]   Package wordnet is already up-to-date!\n"
     ]
    }
   ],
   "source": [
    "import nltk;  \n",
    "nltk.download('averaged_perceptron_tagger');\n",
    "nltk.download('wordnet');"
   ]
  },
  {
   "cell_type": "code",
   "execution_count": 5,
   "metadata": {},
   "outputs": [
    {
     "name": "stdout",
     "output_type": "stream",
     "text": [
      "Words distances  [0.6923076923076923, 0.7368421052631579, 0.6666666666666666, 0.5454545454545454, 0.7692307692307693, 0.8620689655172413]\n",
      "Lemma distances  [0.6923076923076923, 0.6666666666666666, 0.6666666666666666, 0.5454545454545454, 0.7692307692307693, 0.8620689655172413]\n"
     ]
    }
   ],
   "source": [
    "from nltk.metrics import jaccard_distance \n",
    "from nltk.stem import WordNetLemmatizer\n",
    "from nltk import pos_tag\n",
    "\n",
    "wnl = WordNetLemmatizer() \n",
    "\n",
    "def lemmatize(p):        \n",
    "     if p[1][0] in {'N', 'V'}:            \n",
    "        return wnl.lemmatize(p[0].lower(), pos=p[1][0].lower())\n",
    "     return p[0]\n",
    "\n",
    "input_file = 'trial/STS.input.txt'\n",
    "with open(input_file) as f:\n",
    "    input_data = f.readlines()\n",
    "\n",
    "distances = []\n",
    "lemma_distances = []\n",
    "for i in input_data:\n",
    "    sentences = nltk.sent_tokenize(i[4:])\n",
    "    tokens = [nltk.word_tokenize(sent) for sent in sentences]\n",
    "    pairs = [pos_tag(word) for word in tokens]\n",
    "    distances.append(jaccard_distance(set(tokens[0]),set(tokens[1])))\n",
    "    lemma_distances.append(jaccard_distance(set([lemmatize(pair) for pair in pairs[0]]),\n",
    "                                            set([lemmatize(pair) for pair in pairs[1]])))\n",
    "print('Words distances ', distances)\n",
    "print('Lemma distances ', lemma_distances)\n",
    "\n"
   ]
  },
  {
   "cell_type": "code",
   "execution_count": 7,
   "metadata": {},
   "outputs": [
    {
     "name": "stdout",
     "output_type": "stream",
     "text": [
      "Words pearson:  0.4143770872333895\n",
      "Lemma pearson:  0.517276212426234\n"
     ]
    }
   ],
   "source": [
    "from scipy.stats import pearsonr\n",
    "gold_file = 'trial/STS.gs.txt'\n",
    "with open(gold_file) as f:\n",
    "    gold_data = f.readlines()\n",
    "gold = [int(g[4:5]) for g in gold_data]\n",
    "print('Words pearson: ', pearsonr(distances, gold)[0])\n",
    "print('Lemma pearson: ', pearsonr(lemma_distances, gold)[0])"
   ]
  }
 ],
 "metadata": {
  "kernelspec": {
   "display_name": "Python 3",
   "language": "python",
   "name": "python3"
  },
  "language_info": {
   "codemirror_mode": {
    "name": "ipython",
    "version": 3
   },
   "file_extension": ".py",
   "mimetype": "text/x-python",
   "name": "python",
   "nbconvert_exporter": "python",
   "pygments_lexer": "ipython3",
   "version": "3.6.5"
  }
 },
 "nbformat": 4,
 "nbformat_minor": 2
}
