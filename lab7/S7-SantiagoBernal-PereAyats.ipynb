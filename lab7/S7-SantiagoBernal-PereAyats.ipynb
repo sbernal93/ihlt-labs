{
 "cells": [
  {
   "cell_type": "code",
   "execution_count": 2,
   "metadata": {},
   "outputs": [
    {
     "name": "stdout",
     "output_type": "stream",
     "text": [
      "[nltk_data] Downloading package maxent_ne_chunker to\n",
      "[nltk_data]     /home/santiago/nltk_data...\n",
      "[nltk_data]   Package maxent_ne_chunker is already up-to-date!\n",
      "[nltk_data] Downloading package words to /home/santiago/nltk_data...\n",
      "[nltk_data]   Package words is already up-to-date!\n"
     ]
    },
    {
     "data": {
      "text/plain": [
       "True"
      ]
     },
     "execution_count": 2,
     "metadata": {},
     "output_type": "execute_result"
    }
   ],
   "source": [
    "import nltk\n",
    "nltk.download('maxent_ne_chunker')\n",
    "nltk.download('words')"
   ]
  },
  {
   "cell_type": "code",
   "execution_count": 93,
   "metadata": {},
   "outputs": [
    {
     "name": "stdout",
     "output_type": "stream",
     "text": [
      "(S\n",
      "  (PERSON Mark/NNP)\n",
      "  (ORGANIZATION Pedersen/NNP)\n",
      "  and/CC\n",
      "  (PERSON John/NNP Smith/NNP)\n",
      "  are/VBP\n",
      "  working/VBG\n",
      "  at/IN\n",
      "  (ORGANIZATION Googlesince/NNP)\n",
      "  1994/CD\n",
      "  for/IN\n",
      "  $/$\n",
      "  1000/CD\n",
      "  per/IN\n",
      "  week/NN\n",
      "  the/DT\n",
      "  (GSP US/NNP)\n",
      "  army/NN\n",
      "  (PERSON Jack/NNP White/NNP)\n",
      "  guitar/NN)\n"
     ]
    },
    {
     "data": {
      "image/png": "[encoded data removed]",
      "text/plain": [
       "Tree('S', [Tree('PERSON', [('Mark', 'NNP')]), Tree('ORGANIZATION', [('Pedersen', 'NNP')]), ('and', 'CC'), Tree('PERSON', [('John', 'NNP'), ('Smith', 'NNP')]), ('are', 'VBP'), ('working', 'VBG'), ('at', 'IN'), Tree('ORGANIZATION', [('Googlesince', 'NNP')]), ('1994', 'CD'), ('for', 'IN'), ('$', '$'), ('1000', 'CD'), ('per', 'IN'), ('week', 'NN'), ('the', 'DT'), Tree('GSP', [('US', 'NNP')]), ('army', 'NN'), Tree('PERSON', [('Jack', 'NNP'), ('White', 'NNP')]), ('guitar', 'NN')])"
      ]
     },
     "execution_count": 93,
     "metadata": {},
     "output_type": "execute_result"
    }
   ],
   "source": [
    "from nltk import word_tokenize, pos_tag, ne_chunk\n",
    "\n",
    "sentence = \"Mark Pedersen and John Smith are working at Google\" + \\\n",
    " \"since 1994 for $1000 per week the US army Jack White guitar\"\n",
    "x = pos_tag(word_tokenize(sentence))\n",
    "res = ne_chunk(x)\n",
    "print(res)\n",
    "res\n"
   ]
  },
  {
   "cell_type": "code",
   "execution_count": 84,
   "metadata": {},
   "outputs": [
    {
     "name": "stdout",
     "output_type": "stream",
     "text": [
      "(S\n",
      "  (NE Mark/NNP Pedersen/NNP)\n",
      "  and/CC\n",
      "  (NE John/NNP Smith/NNP)\n",
      "  are/VBP\n",
      "  working/VBG\n",
      "  at/IN\n",
      "  Googlesince/NNP\n",
      "  1994/CD\n",
      "  for/IN\n",
      "  $/$\n",
      "  1000/CD\n",
      "  per/IN\n",
      "  week/NN)\n",
      "True\n"
     ]
    },
    {
     "data": {
      "text/plain": [
       "'Mark Pedersen'"
      ]
     },
     "execution_count": 84,
     "metadata": {},
     "output_type": "execute_result"
    }
   ],
   "source": [
    "res = ne_chunk(x, binary=True)\n",
    "print(res)\n",
    "print(isinstance(res[0],nltk.Tree))\n",
    "res[0].leaves()\n",
    "' '.join([r[0] for r in res[0].leaves()])"
   ]
  },
  {
   "cell_type": "code",
   "execution_count": 90,
   "metadata": {},
   "outputs": [
    {
     "name": "stdout",
     "output_type": "stream",
     "text": [
      "Lab2 distances: [0.6923076923076923, 0.7368421052631579, 0.6666666666666666, 0.5454545454545454, 0.7692307692307693, 0.8620689655172413]\n",
      "Lab3 distances: [0.6923076923076923, 0.6666666666666666, 0.6666666666666666, 0.5454545454545454, 0.7692307692307693, 0.8620689655172413]\n",
      "Lesk distance: [0.7, 0.7857142857142857, 0.5, 0.8888888888888888, 0.9, 0.92]\n",
      "Words and NE distance:[0.6923076923076923, 0.7368421052631579, 0.6666666666666666, 0.5454545454545454, 0.7692307692307693, 0.8620689655172413]\n"
     ]
    }
   ],
   "source": [
    "from nltk import pos_tag\n",
    "from nltk.wsd import lesk\n",
    "from nltk.stem import WordNetLemmatizer\n",
    "from nltk.metrics import jaccard_distance\n",
    "from nltk.corpus import wordnet as wn\n",
    "\n",
    "def lemmatize(p):\n",
    "    if p[1][0] in {'N', 'V'}:\n",
    "        return wnl.lemmatize(p[0].lower(), pos=p[1][0].lower())\n",
    "    return p[0]\n",
    "\n",
    "def penn2morphy(penntag, returnNone=False):\n",
    "    morphy_tag = {'NN':wn.NOUN, 'JJ':wn.ADJ,\n",
    "                  'VB':wn.VERB, 'RB':wn.ADV}\n",
    "    try:\n",
    "        return morphy_tag[penntag[:2]]\n",
    "    except:\n",
    "        return None if returnNone else ''\n",
    "    \n",
    "def words_and_ne(nerc):\n",
    "    if(isinstance(nerc,nltk.Tree)):\n",
    "        return ' '.join([r[0] for r in nerc.leaves()])\n",
    "    return nerc[0]\n",
    "        \n",
    "    \n",
    "wnl = WordNetLemmatizer()\n",
    "\n",
    "input_file = 'trial/STS.input.txt'\n",
    "with open(input_file) as f:\n",
    "    input_data = f.readlines()\n",
    "    \n",
    "document_distances = []\n",
    "lesks_distances = []\n",
    "morphology_distances = []\n",
    "wordsne_distances = []\n",
    "for i in input_data:\n",
    "    sentences = nltk.sent_tokenize(i[4:])\n",
    "    words = [nltk.word_tokenize(sent) for sent in sentences]\n",
    "    pairs = [pos_tag(w) for w in words]\n",
    "    l_words = [[lemmatize(p) for p in pair] for pair in pairs]\n",
    "    res = [ne_chunk(p, binary=True) for p in pairs]\n",
    "    wordsne = [[words_and_ne(r) for r in ress] for ress in res]\n",
    "    synsets = [[[lesk(w, p[0], pos=penn2morphy(p[1][0])) for p in pair] for pair in pairs] for w in words]\n",
    "    lesks_distances.append(jaccard_distance(set(synsets[0][0]), set(synsets[1][1])))\n",
    "    morphology_distances.append(jaccard_distance(set(l_words[0]),set(l_words[1])))\n",
    "    document_distances.append(jaccard_distance(set(words[0]),set(words[1])))\n",
    "    wordsne_distances.append(jaccard_distance(set(wordsne[0]), set(wordsne[1])))\n",
    "    \n",
    "print(\"Lab2 distances: \" + str(document_distances))\n",
    "print(\"Lab3 distances: \" + str(morphology_distances))\n",
    "print(\"Lesk distance: \" + str(lesks_distances))\n",
    "print('Words and NE distance:' + str(wordsne_distances))"
   ]
  },
  {
   "cell_type": "code",
   "execution_count": 92,
   "metadata": {},
   "outputs": [
    {
     "name": "stdout",
     "output_type": "stream",
     "text": [
      "Lab2 pearson correlation: 0.4143770872333895\n",
      "Lab3 pearson correlation: 0.517276212426234\n",
      "Lesk pearson correlation: 0.6056964784272112\n",
      "Words and NE pearson correlation: 0.4143770872333895\n"
     ]
    }
   ],
   "source": [
    "from scipy.stats import pearsonr\n",
    "\n",
    "gold_file = 'trial/STS.gs.txt'\n",
    "with open(gold_file) as f:\n",
    "    gold_data = f.readlines()\n",
    "gold = [int(g[4:5]) for g in gold_data]\n",
    "\n",
    "doc_pearson = pearsonr(document_distances, gold)[0]\n",
    "mor_pearson = pearsonr(morphology_distances, gold)[0]\n",
    "lesk_pearson = pearsonr(lesks_distances, gold)[0]\n",
    "wordsne_pearson = pearsonr(wordsne_distances, gold)[0]\n",
    "\n",
    "print('Lab2 pearson correlation: ' + str(doc_pearson))\n",
    "print('Lab3 pearson correlation: ' + str(mor_pearson))\n",
    "print('Lesk pearson correlation: ' + str(lesk_pearson))\n",
    "print('Words and NE pearson correlation: ' + str(wordsne_pearson))\n"
   ]
  },
  {
   "cell_type": "markdown",
   "metadata": {},
   "source": [
    "Using words and NE gives the same results as the previous case with words, this is because for this case, the sentences used from the trial set are not the best to test this kind of similiraty, since the output of using the resulting words and NE vector is the same as the previous words vector. This would be better for cases where more NE are present and have more significance in the texts like in cases like text search. NE could have an important impact over the similiraty of the search term and different texts, for example, searching for 'Jack White guitar' should look for the artist Jack White and his guitar, not a guy named Jack and a white guitar or similar other conjugations."
   ]
  }
 ],
 "metadata": {
  "kernelspec": {
   "display_name": "Python 3",
   "language": "python",
   "name": "python3"
  },
  "language_info": {
   "codemirror_mode": {
    "name": "ipython",
    "version": 3
   },
   "file_extension": ".py",
   "mimetype": "text/x-python",
   "name": "python",
   "nbconvert_exporter": "python",
   "pygments_lexer": "ipython3",
   "version": "3.6.5"
  }
 },
 "nbformat": 4,
 "nbformat_minor": 2
}
